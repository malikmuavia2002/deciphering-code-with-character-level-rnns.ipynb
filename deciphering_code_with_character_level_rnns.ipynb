{
  "cells": [
    {
      "cell_type": "markdown",
      "metadata": {
        "papermill": {
          "duration": 0.018461,
          "end_time": "2021-09-30T18:01:20.363664",
          "exception": false,
          "start_time": "2021-09-30T18:01:20.345203",
          "status": "completed"
        },
        "tags": [],
        "id": "QdTEGkK_Wll_"
      },
      "source": [
        "# Deciphering Code with character-level RNNs\n",
        "\n",
        "This notebook is a part of my learning journey which I've been documenting from Udacity's Natural Language Processing Nanodegree program, which helped me a lot to learn and excel advanced NLP stuff such as PySpark. Thank you so much Udacity for providing such quality content.\n",
        "\n",
        "\n",
        "In this notebook, we'll look at how to build a recurrent neural network and train it to decipher strings encrypted with a certain cipher.\n",
        "# Loading Dataset\n",
        "The dataset we have consists of 10,000 encrypted phrases and the plaintext version of each encrypted phrase."
      ]
    },
    {
      "cell_type": "code",
      "execution_count": null,
      "metadata": {
        "execution": {
          "iopub.execute_input": "2021-09-30T18:01:20.401348Z",
          "iopub.status.busy": "2021-09-30T18:01:20.400666Z",
          "iopub.status.idle": "2021-09-30T18:01:20.403647Z",
          "shell.execute_reply": "2021-09-30T18:01:20.403119Z"
        },
        "papermill": {
          "duration": 0.024301,
          "end_time": "2021-09-30T18:01:20.403742",
          "exception": false,
          "start_time": "2021-09-30T18:01:20.379441",
          "status": "completed"
        },
        "tags": [],
        "id": "QZrx_wchWlmE"
      },
      "outputs": [],
      "source": [
        "import os\n",
        "\n",
        "def load_data(path):\n",
        "    \"\"\"\n",
        "    Load dataset\n",
        "    \"\"\"\n",
        "    input_file = os.path.join(path)\n",
        "    with open(input_file, \"r\") as f:\n",
        "        data = f.read()\n",
        "\n",
        "    return data.split('\\n')"
      ]
    },
    {
      "cell_type": "code",
      "execution_count": null,
      "metadata": {
        "_cell_guid": "b1076dfc-b9ad-4769-8c92-a6c4dae69d19",
        "_uuid": "8f2839f25d086af736a60e9eeb907d3b93b6e0e5",
        "execution": {
          "iopub.execute_input": "2021-09-30T18:01:20.429703Z",
          "iopub.status.busy": "2021-09-30T18:01:20.429194Z",
          "iopub.status.idle": "2021-09-30T18:01:20.443986Z",
          "shell.execute_reply": "2021-09-30T18:01:20.443227Z"
        },
        "papermill": {
          "duration": 0.02869,
          "end_time": "2021-09-30T18:01:20.444101",
          "exception": false,
          "start_time": "2021-09-30T18:01:20.415411",
          "status": "completed"
        },
        "tags": [],
        "id": "Bx0s9840WlmH",
        "outputId": "1b90276f-0142-4b59-ecb1-922e80943ce4"
      },
      "outputs": [
        {
          "name": "stdout",
          "output_type": "stream",
          "text": [
            "/kaggle/input/deciphering-rnn/cipher.txt\n",
            "/kaggle/input/deciphering-rnn/plaintext.txt\n"
          ]
        }
      ],
      "source": [
        "import os\n",
        "for dirname, _, filenames in os.walk('/kaggle/input'):\n",
        "    for filename in filenames:\n",
        "        print(os.path.join(dirname, filename))"
      ]
    },
    {
      "cell_type": "code",
      "execution_count": null,
      "metadata": {
        "_cell_guid": "79c7e3d0-c299-4dcb-8224-4455121ee9b0",
        "_uuid": "d629ff2d2480ee46fbb7e2d37f6b5fab8052498a",
        "execution": {
          "iopub.execute_input": "2021-09-30T18:01:20.482685Z",
          "iopub.status.busy": "2021-09-30T18:01:20.482061Z",
          "iopub.status.idle": "2021-09-30T18:01:20.513749Z",
          "shell.execute_reply": "2021-09-30T18:01:20.513165Z"
        },
        "papermill": {
          "duration": 0.052452,
          "end_time": "2021-09-30T18:01:20.513864",
          "exception": false,
          "start_time": "2021-09-30T18:01:20.461412",
          "status": "completed"
        },
        "tags": [],
        "id": "VzWp3dqbWlmI"
      },
      "outputs": [],
      "source": [
        "codes = load_data('../input/deciphering-rnn/cipher.txt')\n",
        "plaintext = load_data('../input/deciphering-rnn/plaintext.txt')"
      ]
    },
    {
      "cell_type": "code",
      "execution_count": null,
      "metadata": {
        "execution": {
          "iopub.execute_input": "2021-09-30T18:01:20.554392Z",
          "iopub.status.busy": "2021-09-30T18:01:20.553427Z",
          "iopub.status.idle": "2021-09-30T18:01:20.557424Z",
          "shell.execute_reply": "2021-09-30T18:01:20.556717Z"
        },
        "papermill": {
          "duration": 0.026932,
          "end_time": "2021-09-30T18:01:20.557536",
          "exception": false,
          "start_time": "2021-09-30T18:01:20.530604",
          "status": "completed"
        },
        "tags": [],
        "id": "1RUx0j10WlmJ",
        "outputId": "4b64343a-8495-421a-8900-facc69286c3e"
      },
      "outputs": [
        {
          "data": {
            "text/plain": [
              "['YMJ QNRJ NX MJW QJFXY QNPJI KWZNY , GZY YMJ GFSFSF NX RD QJFXY QNPJI .',\n",
              " 'MJ XFB F TQI DJQQTB YWZHP .',\n",
              " 'NSINF NX WFNSD IZWNSL OZSJ , FSI NY NX XTRJYNRJX BFWR NS STAJRGJW .',\n",
              " 'YMFY HFY BFX RD RTXY QTAJI FSNRFQ .',\n",
              " 'MJ INXQNPJX LWFUJKWZNY , QNRJX , FSI QJRTSX .']"
            ]
          },
          "execution_count": 4,
          "metadata": {},
          "output_type": "execute_result"
        }
      ],
      "source": [
        "codes[:5]"
      ]
    },
    {
      "cell_type": "code",
      "execution_count": null,
      "metadata": {
        "execution": {
          "iopub.execute_input": "2021-09-30T18:01:20.595823Z",
          "iopub.status.busy": "2021-09-30T18:01:20.594993Z",
          "iopub.status.idle": "2021-09-30T18:01:20.601435Z",
          "shell.execute_reply": "2021-09-30T18:01:20.601809Z"
        },
        "papermill": {
          "duration": 0.026814,
          "end_time": "2021-09-30T18:01:20.601949",
          "exception": false,
          "start_time": "2021-09-30T18:01:20.575135",
          "status": "completed"
        },
        "tags": [],
        "id": "O0doXpjaWlmK",
        "outputId": "a271cac6-4fac-4319-fd57-44e53e0d87c8"
      },
      "outputs": [
        {
          "data": {
            "text/plain": [
              "['THE LIME IS HER LEAST LIKED FRUIT , BUT THE BANANA IS MY LEAST LIKED .',\n",
              " 'HE SAW A OLD YELLOW TRUCK .',\n",
              " 'INDIA IS RAINY DURING JUNE , AND IT IS SOMETIMES WARM IN NOVEMBER .',\n",
              " 'THAT CAT WAS MY MOST LOVED ANIMAL .',\n",
              " 'HE DISLIKES GRAPEFRUIT , LIMES , AND LEMONS .']"
            ]
          },
          "execution_count": 5,
          "metadata": {},
          "output_type": "execute_result"
        }
      ],
      "source": [
        "plaintext[:5]"
      ]
    },
    {
      "cell_type": "markdown",
      "metadata": {
        "papermill": {
          "duration": 0.012022,
          "end_time": "2021-09-30T18:01:20.626380",
          "exception": false,
          "start_time": "2021-09-30T18:01:20.614358",
          "status": "completed"
        },
        "tags": [],
        "id": "EZFrzzXcWlmK"
      },
      "source": [
        "## Model Overview: Character-Level RNN\n",
        "The model we will use here is a character-level RNN since the cipher seems to work on the characer level. In a machine translation scenario, a word-level RNN is the more common choice.\n",
        "\n",
        "A character-level RNN will take as input an integer referring to a specific character and output another integer. To be able to get our model to work, we'll need to preprocess our dataset in the following steps:\n",
        " 1. Isolating each character as an array element (instead of an entire phrase, or word being the element of the array)\n",
        " 1. Tokenizing the characters so we can turn them from letters to integers and vice-versa\n",
        " 1. Padding the strings so that all the inputs and outputs can fit in matrix form\n",
        "\n",
        "To visualize this processing, let's assume either our source sequences (`codes` in this case) or target sequences (`plaintext` in this case) look like this (a list of strings):\n",
        "\n",
        "![list_1.png](attachment:list_1.png)\n",
        "\n",
        "Since this model will be working on the character level, we'll need to separate each string into a list of characters (implicitly done by the tokenizer in this notebook):\n",
        "\n",
        "![list_2.png](attachment:list_2.png)\n",
        "\n",
        "Then, the process of tokenization will turn each character into an integer.  Note that when you're working on the a word-level RNN (as in most machine translation examples), the tokenizer will assign an integer to each word rather than each letter, and each cell would represent a word rather than a character.\n",
        "\n",
        "![list_3.png](attachment:list_3.png)\n",
        "\n",
        "Most machine learning platforms expect the input to be a matrix rather than a list of lists. To turn the input into a matrix, we need to find the longest member of the list, and pad all shorter sequences with 0. Assuming 'and two' is the longest sequence in this example, the matrix ends up looking like this:\n",
        "\n",
        "![padded_list.png](attachment:padded_list.png)\n",
        "\n",
        "## Preprocessing\n",
        "For a neural network to predict on text data, it first has to be turned into data it can understand. Text data like \"dog\" is a sequence of ASCII character encodings.  Since a neural network is a series of multiplication and addition operations, the input data needs to be number(s).\n",
        "\n",
        "We can turn each character into a number or each word into a number.  These are called character and word ids, respectively.  Character ids are used for character level models that generate text predictions for each character.  A word level model uses word ids that generate text predictions for each word.  Word level models tend to learn better.\n",
        "\n",
        "Turn each sentence into a sequence of words ids using Keras's [`Tokenizer`](https://keras.io/preprocessing/text/#tokenizer) function. Since we're working on the character level, make sure to set the `char_level` flag to the appropriate value."
      ]
    },
    {
      "cell_type": "code",
      "execution_count": null,
      "metadata": {
        "execution": {
          "iopub.execute_input": "2021-09-30T18:01:20.656978Z",
          "iopub.status.busy": "2021-09-30T18:01:20.656325Z",
          "iopub.status.idle": "2021-09-30T18:01:26.231626Z",
          "shell.execute_reply": "2021-09-30T18:01:26.231174Z"
        },
        "papermill": {
          "duration": 5.592622,
          "end_time": "2021-09-30T18:01:26.231716",
          "exception": false,
          "start_time": "2021-09-30T18:01:20.639094",
          "status": "completed"
        },
        "tags": [],
        "id": "JgLiJKMaWlmM"
      },
      "outputs": [],
      "source": [
        "from keras.preprocessing.text import Tokenizer\n",
        "\n",
        "def tokenize(x):\n",
        "    \"\"\"\n",
        "    Tokenize x\n",
        "    :param x: List of sentences/strings to be tokenized\n",
        "    :return: Tuple of (tokenized x data, tokenizer used to tokenize x)\n",
        "    \"\"\"\n",
        "    x_tk = Tokenizer(char_level=True)\n",
        "    x_tk.fit_on_texts(x)\n",
        "\n",
        "    return x_tk.texts_to_sequences(x), x_tk"
      ]
    },
    {
      "cell_type": "markdown",
      "metadata": {
        "papermill": {
          "duration": 0.012986,
          "end_time": "2021-09-30T18:01:26.257352",
          "exception": false,
          "start_time": "2021-09-30T18:01:26.244366",
          "status": "completed"
        },
        "tags": [],
        "id": "VIxUJqr6WlmN"
      },
      "source": [
        "## Padding\n",
        "When batching the sequence of word ids together, each sequence needs to be the same length.  Since sentences are dynamic in length, we can add padding to the end of the sequences to make them the same length.\n",
        "\n",
        "Make sure all the cipher sequences have the same length and all the plaintext sequences have the same length by adding padding to the **end** of each sequence using Keras's [`pad_sequences`](https://keras.io/preprocessing/sequence/#pad_sequences) function."
      ]
    },
    {
      "cell_type": "code",
      "execution_count": null,
      "metadata": {
        "execution": {
          "iopub.execute_input": "2021-09-30T18:01:26.288762Z",
          "iopub.status.busy": "2021-09-30T18:01:26.288164Z",
          "iopub.status.idle": "2021-09-30T18:01:26.294262Z",
          "shell.execute_reply": "2021-09-30T18:01:26.293736Z"
        },
        "papermill": {
          "duration": 0.024377,
          "end_time": "2021-09-30T18:01:26.294383",
          "exception": false,
          "start_time": "2021-09-30T18:01:26.270006",
          "status": "completed"
        },
        "tags": [],
        "id": "8tHmfAcAWlmN"
      },
      "outputs": [],
      "source": [
        "import numpy as np\n",
        "from keras.preprocessing.sequence import pad_sequences\n",
        "\n",
        "\n",
        "def pad(x, length=None):\n",
        "    \"\"\"\n",
        "    Pad x\n",
        "    :param x: List of sequences.\n",
        "    :param length: Length to pad the sequence to.  If None, use length of longest sequence in x.\n",
        "    :return: Padded numpy array of sequences\n",
        "    \"\"\"\n",
        "    # TODO: Implement\n",
        "    if length is None:\n",
        "        length = max([len(sentence) for sentence in x])\n",
        "    return pad_sequences(x, maxlen=length, padding='post')"
      ]
    },
    {
      "cell_type": "markdown",
      "metadata": {
        "papermill": {
          "duration": 0.012039,
          "end_time": "2021-09-30T18:01:26.319027",
          "exception": false,
          "start_time": "2021-09-30T18:01:26.306988",
          "status": "completed"
        },
        "tags": [],
        "id": "MRIlaKm9WlmO"
      },
      "source": [
        "## Preprocess Pipeline"
      ]
    },
    {
      "cell_type": "code",
      "execution_count": null,
      "metadata": {
        "execution": {
          "iopub.execute_input": "2021-09-30T18:01:26.356741Z",
          "iopub.status.busy": "2021-09-30T18:01:26.351334Z",
          "iopub.status.idle": "2021-09-30T18:01:27.268057Z",
          "shell.execute_reply": "2021-09-30T18:01:27.268571Z"
        },
        "papermill": {
          "duration": 0.937293,
          "end_time": "2021-09-30T18:01:27.268691",
          "exception": false,
          "start_time": "2021-09-30T18:01:26.331398",
          "status": "completed"
        },
        "tags": [],
        "id": "rloga9EFWlmP",
        "outputId": "3481507e-bcda-4eae-ec30-edb1425e854a"
      },
      "outputs": [
        {
          "name": "stdout",
          "output_type": "stream",
          "text": [
            "Data Preprocessed\n"
          ]
        }
      ],
      "source": [
        "def preprocess(x, y):\n",
        "    \"\"\"\n",
        "    Preprocess x and y\n",
        "    :param x: Feature List of sentences\n",
        "    :param y: Label List of sentences\n",
        "    :return: Tuple of (Preprocessed x, Preprocessed y, x tokenizer, y tokenizer)\n",
        "    \"\"\"\n",
        "    preprocess_x, x_tk = tokenize(x)\n",
        "    preprocess_y, y_tk = tokenize(y)\n",
        "\n",
        "    preprocess_x = pad(preprocess_x)\n",
        "    preprocess_y = pad(preprocess_y)\n",
        "\n",
        "    # Keras's sparse_categorical_crossentropy function requires the labels to be in 3 dimensions\n",
        "    preprocess_y = preprocess_y.reshape(*preprocess_y.shape, 1)\n",
        "\n",
        "    return preprocess_x, preprocess_y, x_tk, y_tk\n",
        "\n",
        "preproc_code_sentences, preproc_plaintext_sentences, code_tokenizer, plaintext_tokenizer =\\\n",
        "    preprocess(codes, plaintext)\n",
        "\n",
        "print('Data Preprocessed')"
      ]
    },
    {
      "cell_type": "code",
      "execution_count": null,
      "metadata": {
        "execution": {
          "iopub.execute_input": "2021-09-30T18:01:27.302475Z",
          "iopub.status.busy": "2021-09-30T18:01:27.301794Z",
          "iopub.status.idle": "2021-09-30T18:01:27.306009Z",
          "shell.execute_reply": "2021-09-30T18:01:27.305539Z"
        },
        "papermill": {
          "duration": 0.024351,
          "end_time": "2021-09-30T18:01:27.306096",
          "exception": false,
          "start_time": "2021-09-30T18:01:27.281745",
          "status": "completed"
        },
        "tags": [],
        "id": "NN1yuqjjWlmQ",
        "outputId": "d92266f7-4720-4657-ab4a-1e3d2e792426"
      },
      "outputs": [
        {
          "data": {
            "text/plain": [
              "array([ 5, 14,  3,  1, 10,  2, 13,  3,  1,  2,  4,  1, 14,  3,  6,  1, 10,\n",
              "        3,  8,  4,  5,  1, 10,  2, 25,  3, 11,  1, 20,  6,  9,  2,  5,  1,\n",
              "       18,  1, 17,  9,  5,  1,  5, 14,  3,  1, 17,  8,  7,  8,  7,  8,  1,\n",
              "        2,  4,  1, 13, 15,  1, 10,  3,  8,  4,  5,  1, 10,  2, 25,  3, 11,\n",
              "        1, 19,  0,  0,  0,  0,  0,  0,  0,  0,  0,  0,  0,  0,  0,  0,  0,\n",
              "        0,  0,  0,  0,  0,  0,  0,  0,  0,  0,  0,  0,  0,  0,  0,  0],\n",
              "      dtype=int32)"
            ]
          },
          "execution_count": 9,
          "metadata": {},
          "output_type": "execute_result"
        }
      ],
      "source": [
        "preproc_code_sentences[0]"
      ]
    },
    {
      "cell_type": "code",
      "execution_count": null,
      "metadata": {
        "execution": {
          "iopub.execute_input": "2021-09-30T18:01:27.349063Z",
          "iopub.status.busy": "2021-09-30T18:01:27.348523Z",
          "iopub.status.idle": "2021-09-30T18:01:27.393151Z",
          "shell.execute_reply": "2021-09-30T18:01:27.393565Z"
        },
        "papermill": {
          "duration": 0.07418,
          "end_time": "2021-09-30T18:01:27.393695",
          "exception": false,
          "start_time": "2021-09-30T18:01:27.319515",
          "status": "completed"
        },
        "tags": [],
        "id": "LrpyFbMoWlmQ"
      },
      "outputs": [],
      "source": [
        "from keras.layers import GRU, Input, Dense, TimeDistributed\n",
        "from keras.models import Model\n",
        "from keras.layers import Activation\n",
        "from keras.optimizers import Adam\n",
        "from keras.losses import sparse_categorical_crossentropy\n",
        "\n",
        "\n",
        "def simple_model(input_shape, output_sequence_length, code_vocab_size, plaintext_vocab_size):\n",
        "    \"\"\"\n",
        "    Build and train a basic RNN on x and y\n",
        "    :param input_shape: Tuple of input shape\n",
        "    :param output_sequence_length: Length of output sequence\n",
        "    :param code_vocab_size: Number of unique code characters in the dataset\n",
        "    :param plaintext_vocab_size: Number of unique plaintext characters in the dataset\n",
        "    :return: Keras model built, but not trained\n",
        "    \"\"\"\n",
        "    # Build the layers\n",
        "    learning_rate = 1e-3\n",
        "\n",
        "    input_seq = Input(input_shape[1:])\n",
        "    rnn = GRU(64, return_sequences=True)(input_seq)\n",
        "    logits = TimeDistributed(Dense(plaintext_vocab_size))(rnn)\n",
        "\n",
        "    model = Model(input_seq, Activation('softmax')(logits))\n",
        "    model.compile(loss=sparse_categorical_crossentropy,\n",
        "                  optimizer=Adam(learning_rate),\n",
        "                  metrics=['accuracy'])\n",
        "    return model\n",
        "\n",
        "\n",
        "# Reshaping the input to work with a basic RNN\n",
        "tmp_x = pad(preproc_code_sentences, preproc_plaintext_sentences.shape[1])\n",
        "tmp_x = tmp_x.reshape((-1, preproc_plaintext_sentences.shape[-2], 1))"
      ]
    },
    {
      "cell_type": "code",
      "execution_count": null,
      "metadata": {
        "execution": {
          "iopub.execute_input": "2021-09-30T18:01:27.426713Z",
          "iopub.status.busy": "2021-09-30T18:01:27.426158Z",
          "iopub.status.idle": "2021-09-30T18:01:27.800390Z",
          "shell.execute_reply": "2021-09-30T18:01:27.799652Z"
        },
        "papermill": {
          "duration": 0.393146,
          "end_time": "2021-09-30T18:01:27.800512",
          "exception": false,
          "start_time": "2021-09-30T18:01:27.407366",
          "status": "completed"
        },
        "tags": [],
        "id": "kryfg0bNWlmR"
      },
      "outputs": [],
      "source": [
        "# Train the neural network\n",
        "simple_rnn_model = simple_model(\n",
        "    tmp_x.shape,\n",
        "    preproc_plaintext_sentences.shape[1],\n",
        "    len(code_tokenizer.word_index)+1,\n",
        "    len(plaintext_tokenizer.word_index)+1)\n"
      ]
    },
    {
      "cell_type": "code",
      "execution_count": null,
      "metadata": {
        "execution": {
          "iopub.execute_input": "2021-09-30T18:01:27.845382Z",
          "iopub.status.busy": "2021-09-30T18:01:27.844734Z",
          "iopub.status.idle": "2021-09-30T18:02:17.368825Z",
          "shell.execute_reply": "2021-09-30T18:02:17.369275Z"
        },
        "papermill": {
          "duration": 49.549473,
          "end_time": "2021-09-30T18:02:17.369424",
          "exception": false,
          "start_time": "2021-09-30T18:01:27.819951",
          "status": "completed"
        },
        "tags": [],
        "id": "Fh42Re43WlmS",
        "outputId": "102061df-3d81-48c4-be06-ce310d019347"
      },
      "outputs": [
        {
          "name": "stdout",
          "output_type": "stream",
          "text": [
            "Epoch 1/5\n",
            "250/250 [==============================] - 10s 39ms/step - loss: 1.5733 - accuracy: 0.5734 - val_loss: 0.9582 - val_accuracy: 0.7289\n",
            "Epoch 2/5\n",
            "250/250 [==============================] - 9s 38ms/step - loss: 0.7040 - accuracy: 0.8162 - val_loss: 0.5134 - val_accuracy: 0.8844\n",
            "Epoch 3/5\n",
            "250/250 [==============================] - 10s 39ms/step - loss: 0.3978 - accuracy: 0.9135 - val_loss: 0.3097 - val_accuracy: 0.9344\n",
            "Epoch 4/5\n",
            "250/250 [==============================] - 9s 38ms/step - loss: 0.2542 - accuracy: 0.9464 - val_loss: 0.2097 - val_accuracy: 0.9550\n",
            "Epoch 5/5\n",
            "250/250 [==============================] - 10s 38ms/step - loss: 0.1795 - accuracy: 0.9609 - val_loss: 0.1542 - val_accuracy: 0.9670\n"
          ]
        },
        {
          "data": {
            "text/plain": [
              "<tensorflow.python.keras.callbacks.History at 0x7fa33a124250>"
            ]
          },
          "execution_count": 12,
          "metadata": {},
          "output_type": "execute_result"
        }
      ],
      "source": [
        "simple_rnn_model.fit(tmp_x, preproc_plaintext_sentences, batch_size=32, epochs=5, validation_split=0.2)"
      ]
    },
    {
      "cell_type": "code",
      "execution_count": null,
      "metadata": {
        "execution": {
          "iopub.execute_input": "2021-09-30T18:02:17.732251Z",
          "iopub.status.busy": "2021-09-30T18:02:17.731725Z",
          "iopub.status.idle": "2021-09-30T18:02:18.043097Z",
          "shell.execute_reply": "2021-09-30T18:02:18.043610Z"
        },
        "papermill": {
          "duration": 0.493499,
          "end_time": "2021-09-30T18:02:18.043757",
          "exception": false,
          "start_time": "2021-09-30T18:02:17.550258",
          "status": "completed"
        },
        "tags": [],
        "id": "TvgBdtznWlmS",
        "outputId": "c61622f2-990c-425f-ce28-e600a44487f8"
      },
      "outputs": [
        {
          "name": "stdout",
          "output_type": "stream",
          "text": [
            "`logits_to_text` function loaded.\n",
            "t h e   l i m e   i s   h e r   l e a s t   l i k e d   f r u i t   ,   b u t   t h e   . a n a n a   i s   m b   l e a s t   l i k e d   . <PAD> <PAD> <PAD> <PAD> <PAD> <PAD> <PAD> <PAD> <PAD> <PAD> <PAD> <PAD> <PAD> <PAD> <PAD> <PAD> <PAD> <PAD> <PAD> <PAD> <PAD> <PAD> <PAD> <PAD> <PAD> <PAD> <PAD> <PAD> <PAD> <PAD> <PAD>\n"
          ]
        }
      ],
      "source": [
        "def logits_to_text(logits, tokenizer):\n",
        "    \"\"\"\n",
        "    Turn logits from a neural network into text using the tokenizer\n",
        "    :param logits: Logits from a neural network\n",
        "    :param tokenizer: Keras Tokenizer fit on the labels\n",
        "    :return: String that represents the text of the logits\n",
        "    \"\"\"\n",
        "    index_to_words = {id: word for word, id in tokenizer.word_index.items()}\n",
        "    index_to_words[0] = '<PAD>'\n",
        "\n",
        "    return ' '.join([index_to_words[prediction] for prediction in np.argmax(logits, 1)])\n",
        "\n",
        "print('`logits_to_text` function loaded.')\n",
        "\n",
        "print(logits_to_text(simple_rnn_model.predict(tmp_x[:1])[0], plaintext_tokenizer))"
      ]
    },
    {
      "cell_type": "code",
      "execution_count": null,
      "metadata": {
        "execution": {
          "iopub.execute_input": "2021-09-30T18:02:18.588885Z",
          "iopub.status.busy": "2021-09-30T18:02:18.588070Z",
          "iopub.status.idle": "2021-09-30T18:02:18.593457Z",
          "shell.execute_reply": "2021-09-30T18:02:18.592904Z"
        },
        "papermill": {
          "duration": 0.280869,
          "end_time": "2021-09-30T18:02:18.593556",
          "exception": false,
          "start_time": "2021-09-30T18:02:18.312687",
          "status": "completed"
        },
        "tags": [],
        "id": "3-RTmYFnWlmT",
        "outputId": "d427bcb6-7cbc-4ab0-e49c-7dec3f8768e2"
      },
      "outputs": [
        {
          "data": {
            "text/plain": [
              "'THE LIME IS HER LEAST LIKED FRUIT , BUT THE BANANA IS MY LEAST LIKED .'"
            ]
          },
          "execution_count": 14,
          "metadata": {},
          "output_type": "execute_result"
        }
      ],
      "source": [
        "plaintext[0]"
      ]
    },
    {
      "cell_type": "code",
      "execution_count": null,
      "metadata": {
        "papermill": {
          "duration": 0.180809,
          "end_time": "2021-09-30T18:02:18.953555",
          "exception": false,
          "start_time": "2021-09-30T18:02:18.772746",
          "status": "completed"
        },
        "tags": [],
        "id": "0h79nzbhWlmT"
      },
      "outputs": [],
      "source": []
    }
  ],
  "metadata": {
    "kernelspec": {
      "display_name": "Python 3",
      "language": "python",
      "name": "python3"
    },
    "language_info": {
      "codemirror_mode": {
        "name": "ipython",
        "version": 3
      },
      "file_extension": ".py",
      "mimetype": "text/x-python",
      "name": "python",
      "nbconvert_exporter": "python",
      "pygments_lexer": "ipython3",
      "version": "3.7.6"
    },
    "papermill": {
      "duration": 63.112292,
      "end_time": "2021-09-30T18:02:19.246022",
      "environment_variables": {},
      "exception": null,
      "input_path": "__notebook__.ipynb",
      "output_path": "__notebook__.ipynb",
      "parameters": {},
      "start_time": "2021-09-30T18:01:16.133730",
      "version": "2.1.0"
    },
    "colab": {
      "provenance": []
    }
  },
  "nbformat": 4,
  "nbformat_minor": 0
}